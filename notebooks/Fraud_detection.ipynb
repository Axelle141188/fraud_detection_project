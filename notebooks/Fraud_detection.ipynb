{
 "cells": [
  {
   "cell_type": "code",
   "execution_count": 1,
   "id": "e8100455-4652-40f9-bb41-381380174715",
   "metadata": {},
   "outputs": [
    {
     "name": "stdout",
     "output_type": "stream",
     "text": [
      "Structure du projet créée avec succès !\n"
     ]
    }
   ],
   "source": [
    "import os\n",
    "\n",
    "# Définir le répertoire principal du projet\n",
    "project_dir = \"fraud_detection_project\"\n",
    "\n",
    "# Définir les dossiers à créer\n",
    "folders = [\n",
    "    \"data/raw\",\n",
    "    \"data/processed\",\n",
    "    \"notebooks\",\n",
    "    \"models\",\n",
    "    \"visualizations/exploratory\",\n",
    "    \"visualizations/results\",\n",
    "    \"src\",\n",
    "    \"presentation/images\"\n",
    "]\n",
    "\n",
    "# Définir les fichiers à créer\n",
    "files = [\n",
    "    \"README.md\",\n",
    "    \"requirements.txt\",\n",
    "    \"src/__init__.py\",\n",
    "    \"src/data_processing.py\",\n",
    "    \"src/feature_engineering.py\",\n",
    "    \"src/model_utils.py\",\n",
    "    \"src/evaluation_metrics.py\",\n",
    "    \"presentation/fraud_detection_slides.pdf\",\n",
    "    \"notebooks/01_data_exploration.ipynb\",\n",
    "    \"notebooks/02_data_preparation.ipynb\",\n",
    "    \"notebooks/03_model_development.ipynb\",\n",
    "    \"notebooks/04_model_evaluation.ipynb\",\n",
    "    \"notebooks/05_insights_and_recommendations.ipynb\"\n",
    "]\n",
    "\n",
    "# Création des dossiers\n",
    "for folder in folders:\n",
    "    os.makedirs(os.path.join(project_dir, folder), exist_ok=True)\n",
    "\n",
    "# Création des fichiers\n",
    "for file in files:\n",
    "    file_path = os.path.join(project_dir, file)\n",
    "    with open(file_path, \"w\") as f:\n",
    "        pass\n",
    "\n",
    "print(\"Structure du projet créée avec succès !\")"
   ]
  },
  {
   "cell_type": "code",
   "execution_count": 2,
   "id": "2816d853-de8c-429f-9493-0772dc24e044",
   "metadata": {},
   "outputs": [
    {
     "name": "stdout",
     "output_type": "stream",
     "text": [
      "Le fichier requirements.txt a été créé avec succès!\n"
     ]
    }
   ],
   "source": [
    "import os\n",
    "import subprocess\n",
    "\n",
    "# Créer le répertoire si nécessaire\n",
    "os.makedirs(\"fraud_detection_project\", exist_ok=True)\n",
    "\n",
    "# Exécuter la commande conda list et écrire la sortie dans le fichier\n",
    "result = subprocess.run([\"conda\", \"list\", \"--export\"], capture_output=True, text=True)\n",
    "with open(\"fraud_detection_project/requirements.txt\", \"w\") as f:\n",
    "    f.write(result.stdout)\n",
    "\n",
    "print(\"Le fichier requirements.txt a été créé avec succès!\")"
   ]
  },
  {
   "cell_type": "code",
   "execution_count": 3,
   "id": "d2b36982-7df2-4ae2-87ad-e3996065c0a6",
   "metadata": {},
   "outputs": [
    {
     "name": "stderr",
     "output_type": "stream",
     "text": [
      "C:\\Users\\user\\anaconda3\\envs\\ml_stable\\lib\\site-packages\\tqdm\\auto.py:21: TqdmWarning: IProgress not found. Please update jupyter and ipywidgets. See https://ipywidgets.readthedocs.io/en/stable/user_install.html\n",
      "  from .autonotebook import tqdm as notebook_tqdm\n"
     ]
    },
    {
     "name": "stdout",
     "output_type": "stream",
     "text": [
      "Tous les imports ont réussi!\n"
     ]
    }
   ],
   "source": [
    "import numpy as np\n",
    "import pandas as pd\n",
    "import matplotlib.pyplot as plt\n",
    "import seaborn as sns\n",
    "from sklearn.model_selection import train_test_split\n",
    "from imblearn.over_sampling import SMOTE\n",
    "import xgboost as xgb\n",
    "import shap\n",
    "import plotly.express as px\n",
    "\n",
    "print(\"Tous les imports ont réussi!\")"
   ]
  },
  {
   "cell_type": "code",
   "execution_count": null,
   "id": "734b0a80-5702-46d8-90ae-18f3c5906b8f",
   "metadata": {},
   "outputs": [],
   "source": []
  }
 ],
 "metadata": {
  "kernelspec": {
   "display_name": "Python [ml_stable]",
   "language": "python",
   "name": "ml_stable"
  },
  "language_info": {
   "codemirror_mode": {
    "name": "ipython",
    "version": 3
   },
   "file_extension": ".py",
   "mimetype": "text/x-python",
   "name": "python",
   "nbconvert_exporter": "python",
   "pygments_lexer": "ipython3",
   "version": "3.10.17"
  }
 },
 "nbformat": 4,
 "nbformat_minor": 5
}
